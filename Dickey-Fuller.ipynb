{
 "cells": [
  {
   "cell_type": "markdown",
   "metadata": {},
   "source": [
    "Stationarity of data can inferred from the graph in some of the cases. But mostly, the analyst needs to conduct rigorous tests to learn about stationarity. Dickey-Fuller test is used for that purpose, and can easily be conducted using the relevant funcinos from Statsmodels library as presented below."
   ]
  },
  {
   "cell_type": "code",
   "execution_count": 1,
   "metadata": {
    "collapsed": true
   },
   "outputs": [],
   "source": [
    "# importing necessary libraries\n",
    "import pandas as pd # to present the data and apply MA technique\n",
    "import numpy as np # to later perform mathematical transformation\n",
    "import matplotlib.pyplot as plt # make plots\n",
    "# to present plots inline with the code (on the same page)\n",
    "%matplotlib inline"
   ]
  },
  {
   "cell_type": "code",
   "execution_count": 2,
   "metadata": {
    "collapsed": false
   },
   "outputs": [
    {
     "data": {
      "text/html": [
       "<div>\n",
       "<table border=\"1\" class=\"dataframe\">\n",
       "  <thead>\n",
       "    <tr style=\"text-align: right;\">\n",
       "      <th></th>\n",
       "      <th>Passengers</th>\n",
       "    </tr>\n",
       "    <tr>\n",
       "      <th>Month</th>\n",
       "      <th></th>\n",
       "    </tr>\n",
       "  </thead>\n",
       "  <tbody>\n",
       "    <tr>\n",
       "      <th>1949-01-01</th>\n",
       "      <td>112</td>\n",
       "    </tr>\n",
       "    <tr>\n",
       "      <th>1949-02-01</th>\n",
       "      <td>118</td>\n",
       "    </tr>\n",
       "    <tr>\n",
       "      <th>1949-03-01</th>\n",
       "      <td>132</td>\n",
       "    </tr>\n",
       "    <tr>\n",
       "      <th>1949-04-01</th>\n",
       "      <td>129</td>\n",
       "    </tr>\n",
       "    <tr>\n",
       "      <th>1949-05-01</th>\n",
       "      <td>121</td>\n",
       "    </tr>\n",
       "  </tbody>\n",
       "</table>\n",
       "</div>"
      ],
      "text/plain": [
       "            Passengers\n",
       "Month                 \n",
       "1949-01-01         112\n",
       "1949-02-01         118\n",
       "1949-03-01         132\n",
       "1949-04-01         129\n",
       "1949-05-01         121"
      ]
     },
     "execution_count": 2,
     "metadata": {},
     "output_type": "execute_result"
    }
   ],
   "source": [
    "# import the data and fix the Month column as the time series\n",
    "data = pd.read_csv(r'C:\\Users\\Legion\\Downloads\\AirPassengers.csv',parse_dates=['Month'], index_col='Month')\n",
    "# showing the first 5 observations of the data\n",
    "data.head()"
   ]
  },
  {
   "cell_type": "code",
   "execution_count": 3,
   "metadata": {
    "collapsed": true
   },
   "outputs": [],
   "source": [
    "# import the function which initiates the test\n",
    "from statsmodels.tsa.stattools import adfuller"
   ]
  },
  {
   "cell_type": "code",
   "execution_count": 4,
   "metadata": {
    "collapsed": false
   },
   "outputs": [],
   "source": [
    "# perform the test on the \"Passengers\" column of the dataset\n",
    "# save the results in a new variable\n",
    "stationarity_test = adfuller(data['Passengers'])"
   ]
  },
  {
   "cell_type": "code",
   "execution_count": 5,
   "metadata": {
    "collapsed": false
   },
   "outputs": [
    {
     "name": "stdout",
     "output_type": "stream",
     "text": [
      "(0.81536887920605039, 0.99188024343764103, 13L, 130L, {'5%': -2.8840418343195267, '1%': -3.4816817173418295, '10%': -2.5787700591715979}, 996.69293083901903)\n"
     ]
    }
   ],
   "source": [
    "# print the values of the test\n",
    "print(stationarity_test)"
   ]
  },
  {
   "cell_type": "markdown",
   "metadata": {
    "collapsed": true
   },
   "source": [
    "As you can see above, there are a lof of values saved in the variable above (test statistics, p-value, critical values etc.). we are interested in getting the p-value only, which is the 2nd value in the stationarity_test variable."
   ]
  },
  {
   "cell_type": "code",
   "execution_count": 6,
   "metadata": {
    "collapsed": false
   },
   "outputs": [
    {
     "name": "stdout",
     "output_type": "stream",
     "text": [
      "0.991880243438\n"
     ]
    }
   ],
   "source": [
    "# get the second value\n",
    "print(stationarity_test[1])"
   ]
  },
  {
   "cell_type": "markdown",
   "metadata": {},
   "source": [
    "The H0 hypothesis of the test is that series is non-stationary, while the alternative hypothesis is stationarity. The large p-value suggest that we fail to reject H0, which concludes that the series is non-stationary.\n",
    "\n",
    "Generally, in order to reject the H0 hypothesis (i.e. to have a stationary series) given 95%  confidence interval, one should have the p-value < 0.5 (which is not the case here)."
   ]
  }
 ],
 "metadata": {
  "anaconda-cloud": {},
  "kernelspec": {
   "display_name": "Python [default]",
   "language": "python",
   "name": "python2"
  },
  "language_info": {
   "codemirror_mode": {
    "name": "ipython",
    "version": 2
   },
   "file_extension": ".py",
   "mimetype": "text/x-python",
   "name": "python",
   "nbconvert_exporter": "python",
   "pygments_lexer": "ipython2",
   "version": "2.7.12"
  }
 },
 "nbformat": 4,
 "nbformat_minor": 1
}
